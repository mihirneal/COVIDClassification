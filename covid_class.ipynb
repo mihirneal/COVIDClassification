{
 "cells": [
  {
   "cell_type": "code",
   "execution_count": 1,
   "metadata": {},
   "outputs": [
    {
     "name": "stderr",
     "output_type": "stream",
     "text": [
      "/home/samantha/miniconda3/envs/ml/lib/python3.10/site-packages/tqdm/auto.py:22: TqdmWarning: IProgress not found. Please update jupyter and ipywidgets. See https://ipywidgets.readthedocs.io/en/stable/user_install.html\n",
      "  from .autonotebook import tqdm as notebook_tqdm\n"
     ]
    }
   ],
   "source": [
    "import pandas as pd\n",
    "import numpy as np\n",
    "import torch\n",
    "from torch.utils.data import Dataset, DataLoader\n",
    "import torch.nn as nn\n",
    "import torchvision\n",
    "import torchvision.transforms as transforms\n",
    "import os\n",
    "from PIL import Image\n",
    "import random\n",
    "import csv"
   ]
  },
  {
   "cell_type": "code",
   "execution_count": 2,
   "metadata": {},
   "outputs": [],
   "source": [
    "path = \"/home/samantha/Desktop/mihir mess/datasets/COVID Classification/\"\n",
    "infectedImg_path = path + 'COVID'\n",
    "healthyImg_path = path + 'non-COVID'"
   ]
  },
  {
   "cell_type": "code",
   "execution_count": 3,
   "metadata": {},
   "outputs": [],
   "source": [
    "#Creating a CSV file since this dataset doesn't have one\n",
    "fields = ['ImgName', 'Label']\n",
    "filename = 'dataset.csv'\n",
    "filepath = os.path.join(path, filename)\n",
    "data = []\n",
    "for i in os.listdir(infectedImg_path):\n",
    "    if i[0] != '.':\n",
    "        data.append([i, 1])\n",
    "\n",
    "for i in os.listdir(healthyImg_path):\n",
    "    if i[0] != '.':\n",
    "        data.append([i, 0])\n",
    "\n",
    "random.shuffle(data)\n",
    "\n",
    "with open(filepath, 'w') as csvfile:\n",
    "    csvwriter = csv.writer(csvfile)\n",
    "    csvwriter.writerow(fields)\n",
    "    csvwriter.writerows(data)"
   ]
  },
  {
   "cell_type": "code",
   "execution_count": 4,
   "metadata": {},
   "outputs": [
    {
     "data": {
      "text/plain": [
       "3227"
      ]
     },
     "execution_count": 4,
     "metadata": {},
     "output_type": "execute_result"
    }
   ],
   "source": [
    "len(data)"
   ]
  },
  {
   "cell_type": "code",
   "execution_count": 5,
   "metadata": {},
   "outputs": [],
   "source": [
    "#Loading the dataset\n",
    "df = pd.read_csv(filepath)\n",
    "\n",
    "#Splitting it into test and train dataset\n",
    "df['split'] = np.random.randn(df.shape[0], 1)\n",
    "msk = np.random.rand(len(df)) <= 0.8\n",
    "\n",
    "train_df = df[msk]\n",
    "test_df = df[~msk]"
   ]
  },
  {
   "cell_type": "code",
   "execution_count": 6,
   "metadata": {},
   "outputs": [
    {
     "data": {
      "text/html": [
       "<div>\n",
       "<style scoped>\n",
       "    .dataframe tbody tr th:only-of-type {\n",
       "        vertical-align: middle;\n",
       "    }\n",
       "\n",
       "    .dataframe tbody tr th {\n",
       "        vertical-align: top;\n",
       "    }\n",
       "\n",
       "    .dataframe thead th {\n",
       "        text-align: right;\n",
       "    }\n",
       "</style>\n",
       "<table border=\"1\" class=\"dataframe\">\n",
       "  <thead>\n",
       "    <tr style=\"text-align: right;\">\n",
       "      <th></th>\n",
       "      <th>ImgName</th>\n",
       "      <th>Label</th>\n",
       "      <th>split</th>\n",
       "    </tr>\n",
       "  </thead>\n",
       "  <tbody>\n",
       "    <tr>\n",
       "      <th>0</th>\n",
       "      <td>Covid (126).png</td>\n",
       "      <td>1</td>\n",
       "      <td>0.577519</td>\n",
       "    </tr>\n",
       "    <tr>\n",
       "      <th>1</th>\n",
       "      <td>Covid (244).png</td>\n",
       "      <td>1</td>\n",
       "      <td>-0.088331</td>\n",
       "    </tr>\n",
       "    <tr>\n",
       "      <th>3</th>\n",
       "      <td>Non-Covid (510).png</td>\n",
       "      <td>0</td>\n",
       "      <td>0.731508</td>\n",
       "    </tr>\n",
       "    <tr>\n",
       "      <th>4</th>\n",
       "      <td>63%4.jpg</td>\n",
       "      <td>0</td>\n",
       "      <td>-0.648744</td>\n",
       "    </tr>\n",
       "    <tr>\n",
       "      <th>6</th>\n",
       "      <td>35%0.jpg</td>\n",
       "      <td>0</td>\n",
       "      <td>-2.317535</td>\n",
       "    </tr>\n",
       "  </tbody>\n",
       "</table>\n",
       "</div>"
      ],
      "text/plain": [
       "               ImgName  Label     split\n",
       "0      Covid (126).png      1  0.577519\n",
       "1      Covid (244).png      1 -0.088331\n",
       "3  Non-Covid (510).png      0  0.731508\n",
       "4             63%4.jpg      0 -0.648744\n",
       "6             35%0.jpg      0 -2.317535"
      ]
     },
     "execution_count": 6,
     "metadata": {},
     "output_type": "execute_result"
    }
   ],
   "source": [
    "train_df.head()"
   ]
  },
  {
   "cell_type": "code",
   "execution_count": 7,
   "metadata": {},
   "outputs": [],
   "source": [
    "#Creating the container object for images and labels\n",
    "\n",
    "class COVIDClassificationDataset(Dataset):\n",
    "    def __init__(self, dataFrame, root_dir, transform = None):\n",
    "        self.dataFrame = dataFrame\n",
    "        self.root_dir = root_dir\n",
    "        self.transform = transform\n",
    "    \n",
    "    def __len__(self):\n",
    "        return len(self.dataFrame)\n",
    "    \n",
    "    def __getitem__(self, idx):\n",
    "        label = self.dataFrame.iloc[idx, 1]\n",
    "        if label == 0:\n",
    "            newDir = os.path.join(self.root_dir, 'non-COVID')\n",
    "        elif label == 1:\n",
    "            newDir = os.path.join(self.root_dir, 'COVID')\n",
    "        img_name = os.path.join(newDir, self.dataFrame.iloc[idx, 0])\n",
    "        image = Image.open(img_name).convert(\"RGB\")\n",
    "        \n",
    "        if self.transform:\n",
    "            image = self.transform(image)\n",
    "\n",
    "        return (image, label)"
   ]
  },
  {
   "cell_type": "code",
   "execution_count": 8,
   "metadata": {},
   "outputs": [],
   "source": [
    "img_transform = transforms.Compose([\n",
    "    transforms.Resize(250),\n",
    "    transforms.CenterCrop(227),\n",
    "    transforms.RandomHorizontalFlip(),\n",
    "    transforms.RandomRotation(10),\n",
    "    transforms.ToTensor(),\n",
    "    transforms.Normalize((0.485, 0.456, 0.406), (0.229, 0.224, 0.225)),\n",
    "\n",
    "\n",
    "])"
   ]
  },
  {
   "cell_type": "code",
   "execution_count": 9,
   "metadata": {},
   "outputs": [],
   "source": [
    "covid_train = COVIDClassificationDataset(dataFrame=train_df, root_dir= path, transform=img_transform)\n",
    "covid_test = COVIDClassificationDataset(dataFrame=test_df, root_dir=path, transform=img_transform)"
   ]
  },
  {
   "cell_type": "code",
   "execution_count": 10,
   "metadata": {},
   "outputs": [
    {
     "name": "stderr",
     "output_type": "stream",
     "text": [
      "Clipping input data to the valid range for imshow with RGB data ([0..1] for floats or [0..255] for integers).\n"
     ]
    },
    {
     "data": {
      "image/png": "[encoded data removed]",
      "text/plain": [
       "<Figure size 432x288 with 1 Axes>"
      ]
     },
     "metadata": {
      "needs_background": "light"
     },
     "output_type": "display_data"
    }
   ],
   "source": [
    "#Visualizing the image\n",
    "import matplotlib.pyplot as plt\n",
    "\n",
    "temp_img, temp_lab = covid_train[0]\n",
    "plt.imshow(temp_img.numpy().transpose((1, 2, 0)))\n",
    "if temp_lab:\n",
    "    plt.title(\"Infected with COVID\")\n",
    "else:\n",
    "    plt.title(\"Healthy\")\n",
    "plt.axis('off')\n",
    "plt.show()"
   ]
  },
  {
   "cell_type": "code",
   "execution_count": 11,
   "metadata": {},
   "outputs": [],
   "source": [
    "device = torch.device('cuda') if torch.cuda.is_available() else torch.device('cpu')"
   ]
  },
  {
   "cell_type": "code",
   "execution_count": 12,
   "metadata": {},
   "outputs": [
    {
     "data": {
      "text/plain": [
       "device(type='cuda')"
      ]
     },
     "execution_count": 12,
     "metadata": {},
     "output_type": "execute_result"
    }
   ],
   "source": [
    "device"
   ]
  },
  {
   "cell_type": "code",
   "execution_count": 13,
   "metadata": {},
   "outputs": [],
   "source": [
    "#Dataloader\n",
    "train_loader = DataLoader(dataset=covid_train, batch_size=16, shuffle=True)\n",
    "test_loader = DataLoader(dataset=covid_test, batch_size=16, shuffle=False)"
   ]
  },
  {
   "cell_type": "code",
   "execution_count": 14,
   "metadata": {},
   "outputs": [
    {
     "name": "stderr",
     "output_type": "stream",
     "text": [
      "/home/samantha/miniconda3/envs/ml/lib/python3.10/site-packages/torchvision/models/_utils.py:208: UserWarning: The parameter 'pretrained' is deprecated since 0.13 and will be removed in 0.15, please use 'weights' instead.\n",
      "  warnings.warn(\n",
      "/home/samantha/miniconda3/envs/ml/lib/python3.10/site-packages/torchvision/models/_utils.py:223: UserWarning: Arguments other than a weight enum or `None` for 'weights' are deprecated since 0.13 and will be removed in 0.15. The current behavior is equivalent to passing `weights=None`.\n",
      "  warnings.warn(msg)\n"
     ]
    }
   ],
   "source": [
    "#Transfer learning\n",
    "model = torchvision.models.densenet121(pretrained=False)"
   ]
  },
  {
   "cell_type": "code",
   "execution_count": 15,
   "metadata": {},
   "outputs": [],
   "source": [
    "num_features = model.classifier.in_features\n",
    "model.classifier = nn.Sequential(\n",
    "    nn.Linear(num_features, 500),\n",
    "    nn.Linear(500, 2)\n",
    ")\n",
    "model = model.to(device)\n",
    "criterion = nn.CrossEntropyLoss()\n",
    "optimizer = torch.optim.Adam(model.parameters(), lr=0.001, amsgrad=True)\n",
    "scheduler = torch.optim.lr_scheduler.MultiStepLR(optimizer, milestones=[500,1000,1500], gamma=0.5)"
   ]
  },
  {
   "cell_type": "code",
   "execution_count": 26,
   "metadata": {},
   "outputs": [
    {
     "name": "stdout",
     "output_type": "stream",
     "text": [
      "Epoch: [1 / 100], Loss: 0.7306\n",
      "Epoch: [2 / 100], Loss: 0.6774\n",
      "Epoch: [3 / 100], Loss: 0.6284\n",
      "Epoch: [4 / 100], Loss: 0.7090\n",
      "Epoch: [5 / 100], Loss: 0.5219\n",
      "Epoch: [6 / 100], Loss: 0.4055\n",
      "Epoch: [7 / 100], Loss: 0.3087\n",
      "Epoch: [8 / 100], Loss: 0.5201\n",
      "Epoch: [9 / 100], Loss: 0.6222\n",
      "Epoch: [10 / 100], Loss: 0.5713\n",
      "Epoch: [11 / 100], Loss: 0.4010\n",
      "Epoch: [12 / 100], Loss: 0.3292\n",
      "Epoch: [13 / 100], Loss: 0.3089\n",
      "Epoch: [14 / 100], Loss: 0.6117\n",
      "Epoch: [15 / 100], Loss: 0.3997\n",
      "Epoch: [16 / 100], Loss: 0.2252\n",
      "Epoch: [17 / 100], Loss: 0.4244\n",
      "Epoch: [18 / 100], Loss: 0.5669\n",
      "Epoch: [19 / 100], Loss: 0.3900\n",
      "Epoch: [20 / 100], Loss: 0.3762\n",
      "Epoch: [21 / 100], Loss: 0.2297\n",
      "Epoch: [22 / 100], Loss: 0.2478\n",
      "Epoch: [23 / 100], Loss: 0.4700\n",
      "Epoch: [24 / 100], Loss: 0.5997\n",
      "Epoch: [25 / 100], Loss: 0.5262\n",
      "Epoch: [26 / 100], Loss: 0.2395\n",
      "Epoch: [27 / 100], Loss: 0.4495\n",
      "Epoch: [28 / 100], Loss: 0.2182\n",
      "Epoch: [29 / 100], Loss: 0.2146\n",
      "Epoch: [30 / 100], Loss: 0.6117\n",
      "Epoch: [31 / 100], Loss: 0.1439\n",
      "Epoch: [32 / 100], Loss: 0.2718\n",
      "Epoch: [33 / 100], Loss: 0.4940\n",
      "Epoch: [34 / 100], Loss: 0.5439\n",
      "Epoch: [35 / 100], Loss: 0.1924\n",
      "Epoch: [36 / 100], Loss: 0.1217\n",
      "Epoch: [37 / 100], Loss: 0.0500\n",
      "Epoch: [38 / 100], Loss: 0.0687\n",
      "Epoch: [39 / 100], Loss: 0.2501\n",
      "Epoch: [40 / 100], Loss: 0.2889\n",
      "Epoch: [41 / 100], Loss: 0.1056\n",
      "Epoch: [42 / 100], Loss: 0.1703\n",
      "Epoch: [43 / 100], Loss: 0.0315\n",
      "Epoch: [44 / 100], Loss: 0.0764\n",
      "Epoch: [45 / 100], Loss: 0.3487\n",
      "Epoch: [46 / 100], Loss: 0.0361\n",
      "Epoch: [47 / 100], Loss: 0.5733\n",
      "Epoch: [48 / 100], Loss: 0.0255\n",
      "Epoch: [49 / 100], Loss: 0.0656\n",
      "Epoch: [50 / 100], Loss: 0.0688\n",
      "Epoch: [51 / 100], Loss: 0.3131\n",
      "Epoch: [52 / 100], Loss: 0.0217\n",
      "Epoch: [53 / 100], Loss: 0.0372\n",
      "Epoch: [54 / 100], Loss: 0.0186\n",
      "Epoch: [55 / 100], Loss: 0.0578\n",
      "Epoch: [56 / 100], Loss: 0.0046\n",
      "Epoch: [57 / 100], Loss: 0.0230\n",
      "Epoch: [58 / 100], Loss: 0.0773\n",
      "Epoch: [59 / 100], Loss: 0.0260\n",
      "Epoch: [60 / 100], Loss: 0.0722\n",
      "Epoch: [61 / 100], Loss: 0.0134\n",
      "Epoch: [62 / 100], Loss: 0.0859\n",
      "Epoch: [63 / 100], Loss: 0.0526\n",
      "Epoch: [64 / 100], Loss: 0.0122\n",
      "Epoch: [65 / 100], Loss: 0.0177\n",
      "Epoch: [66 / 100], Loss: 0.8025\n",
      "Epoch: [67 / 100], Loss: 0.0077\n",
      "Epoch: [68 / 100], Loss: 0.0948\n",
      "Epoch: [69 / 100], Loss: 0.0043\n",
      "Epoch: [70 / 100], Loss: 0.0505\n",
      "Epoch: [71 / 100], Loss: 0.0380\n",
      "Epoch: [72 / 100], Loss: 0.0191\n",
      "Epoch: [73 / 100], Loss: 0.0258\n",
      "Epoch: [74 / 100], Loss: 0.0052\n",
      "Epoch: [75 / 100], Loss: 0.1739\n",
      "Epoch: [76 / 100], Loss: 0.1794\n",
      "Epoch: [77 / 100], Loss: 0.0865\n",
      "Epoch: [78 / 100], Loss: 0.0093\n",
      "Epoch: [79 / 100], Loss: 0.0650\n",
      "Epoch: [80 / 100], Loss: 0.0062\n",
      "Epoch: [81 / 100], Loss: 0.4725\n",
      "Epoch: [82 / 100], Loss: 0.0033\n",
      "Epoch: [83 / 100], Loss: 0.0100\n",
      "Epoch: [84 / 100], Loss: 0.0090\n",
      "Epoch: [85 / 100], Loss: 0.0077\n",
      "Epoch: [86 / 100], Loss: 0.0045\n",
      "Epoch: [87 / 100], Loss: 0.0934\n",
      "Epoch: [88 / 100], Loss: 0.0010\n",
      "Epoch: [89 / 100], Loss: 0.0213\n",
      "Epoch: [90 / 100], Loss: 0.2897\n",
      "Epoch: [91 / 100], Loss: 0.0399\n",
      "Epoch: [92 / 100], Loss: 0.0854\n",
      "Epoch: [93 / 100], Loss: 0.0237\n",
      "Epoch: [94 / 100], Loss: 0.2030\n",
      "Epoch: [95 / 100], Loss: 0.0574\n",
      "Epoch: [96 / 100], Loss: 0.0042\n",
      "Epoch: [97 / 100], Loss: 0.0030\n",
      "Epoch: [98 / 100], Loss: 0.0009\n",
      "Epoch: [99 / 100], Loss: 0.0024\n",
      "Epoch: [100 / 100], Loss: 0.0238\n"
     ]
    }
   ],
   "source": [
    "num_ep = 100\n",
    "n_steps = len(train_loader)\n",
    "for ep in range(num_ep):\n",
    "    for i, (images, labels) in enumerate(train_loader):\n",
    "        images = images.to(device)\n",
    "        labels = labels.to(device)\n",
    "\n",
    "        #Forward Pass\n",
    "        optimizer.zero_grad()\n",
    "        output = model(images)\n",
    "        loss = criterion(output, labels)\n",
    "\n",
    "        #Backward Pass\n",
    "        loss.backward()\n",
    "        optimizer.step()\n",
    "    \n",
    "    print(f'Epoch: [{ep + 1} / {num_ep}], Loss: {loss.item():.4f}')"
   ]
  },
  {
   "cell_type": "code",
   "execution_count": 28,
   "metadata": {},
   "outputs": [
    {
     "name": "stdout",
     "output_type": "stream",
     "text": [
      "Accuracy of the Model: 91.32\n"
     ]
    }
   ],
   "source": [
    "model.eval()\n",
    "correct = 0\n",
    "total_pred = 0\n",
    "for x, fn in test_loader:\n",
    "    with torch.no_grad():\n",
    "        x = x.to(device)\n",
    "        output = model(x)\n",
    "        pred = torch.argmax(output, dim = 1)\n",
    "        for i in range(len(pred)):\n",
    "            total_pred += 1\n",
    "            if pred[i] == fn[i]:\n",
    "                correct += 1\n",
    "\n",
    "\n",
    "#Accuracy of the model\n",
    "acc = 100 * correct / total_pred\n",
    "print(f'Accuracy of the Model: {acc:.2f}')"
   ]
  }
 ],
 "metadata": {
  "kernelspec": {
   "display_name": "Python 3.8.12 ('pytorch')",
   "language": "python",
   "name": "python3"
  },
  "language_info": {
   "codemirror_mode": {
    "name": "ipython",
    "version": 3
   },
   "file_extension": ".py",
   "mimetype": "text/x-python",
   "name": "python",
   "nbconvert_exporter": "python",
   "pygments_lexer": "ipython3",
   "version": "3.8.12"
  },
  "orig_nbformat": 4,
  "vscode": {
   "interpreter": {
    "hash": "cf27035b7dc97182e329f4f3264e74024bcb2370fef5d6f059b9761c10d841e0"
   }
  }
 },
 "nbformat": 4,
 "nbformat_minor": 2
}
